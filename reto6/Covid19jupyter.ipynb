{
 "cells": [
  {
   "cell_type": "code",
   "execution_count": 1,
   "id": "eef9c691",
   "metadata": {},
   "outputs": [
    {
     "name": "stdout",
     "output_type": "stream",
     "text": [
      "Starting Spark application\n"
     ]
    },
    {
     "data": {
      "text/html": [
       "<table>\n",
       "<tr><th>ID</th><th>YARN Application ID</th><th>Kind</th><th>State</th><th>Spark UI</th><th>Driver log</th><th>User</th><th>Current session?</th></tr><tr><td>3</td><td>application_1686276429009_0004</td><td>pyspark</td><td>idle</td><td><a target=\"_blank\" href=\"http://ip-172-31-5-208.ec2.internal:20888/proxy/application_1686276429009_0004/\">Link</a></td><td><a target=\"_blank\" href=\"http://ip-172-31-4-1.ec2.internal:8042/node/containerlogs/container_1686276429009_0004_01_000001/livy\">Link</a></td><td>None</td><td>✔</td></tr></table>"
      ],
      "text/plain": [
       "<IPython.core.display.HTML object>"
      ]
     },
     "metadata": {},
     "output_type": "display_data"
    },
    {
     "data": {
      "application/vnd.jupyter.widget-view+json": {
       "model_id": "",
       "version_major": 2,
       "version_minor": 0
      },
      "text/plain": [
       "FloatProgress(value=0.0, bar_style='info', description='Progress:', layout=Layout(height='25px', width='50%'),…"
      ]
     },
     "metadata": {},
     "output_type": "display_data"
    },
    {
     "name": "stdout",
     "output_type": "stream",
     "text": [
      "SparkSession available as 'spark'.\n"
     ]
    },
    {
     "data": {
      "application/vnd.jupyter.widget-view+json": {
       "model_id": "",
       "version_major": 2,
       "version_minor": 0
      },
      "text/plain": [
       "FloatProgress(value=0.0, bar_style='info', description='Progress:', layout=Layout(height='25px', width='50%'),…"
      ]
     },
     "metadata": {},
     "output_type": "display_data"
    }
   ],
   "source": [
    "from pyspark.sql import SparkSession\n",
    "from pyspark.sql.functions import concat, col, lit\n",
    "from pyspark.sql.functions import desc\n",
    "from pyspark.sql.functions import udf"
   ]
  },
  {
   "cell_type": "code",
   "execution_count": 2,
   "id": "971a09f7",
   "metadata": {},
   "outputs": [
    {
     "data": {
      "application/vnd.jupyter.widget-view+json": {
       "model_id": "",
       "version_major": 2,
       "version_minor": 0
      },
      "text/plain": [
       "FloatProgress(value=0.0, bar_style='info', description='Progress:', layout=Layout(height='25px', width='50%'),…"
      ]
     },
     "metadata": {},
     "output_type": "display_data"
    }
   ],
   "source": [
    "park=SparkSession.builder.appName('data_processing').getOrCreate()"
   ]
  },
  {
   "cell_type": "code",
   "execution_count": 3,
   "id": "1dad57f9",
   "metadata": {},
   "outputs": [
    {
     "data": {
      "application/vnd.jupyter.widget-view+json": {
       "model_id": "",
       "version_major": 2,
       "version_minor": 0
      },
      "text/plain": [
       "FloatProgress(value=0.0, bar_style='info', description='Progress:', layout=Layout(height='25px', width='50%'),…"
      ]
     },
     "metadata": {},
     "output_type": "display_data"
    }
   ],
   "source": [
    "df=spark.read.csv('s3://st0263darangoh/datasets/covid19/Casos_positivos_de_COVID-19_en_Colombia-100K.csv',inferSchema=True,header=True)"
   ]
  },
  {
   "cell_type": "code",
   "execution_count": 4,
   "id": "afef98ad",
   "metadata": {},
   "outputs": [
    {
     "data": {
      "application/vnd.jupyter.widget-view+json": {
       "model_id": "",
       "version_major": 2,
       "version_minor": 0
      },
      "text/plain": [
       "FloatProgress(value=0.0, bar_style='info', description='Progress:', layout=Layout(height='25px', width='50%'),…"
      ]
     },
     "metadata": {},
     "output_type": "display_data"
    },
    {
     "name": "stdout",
     "output_type": "stream",
     "text": [
      "['fecha reporte web', 'ID de caso', 'Fecha de notificación', 'Código DIVIPOLA departamento', 'Nombre departamento', 'Código DIVIPOLA municipio', 'Nombre municipio', 'Edad', 'Unidad de medida de edad', 'Sexo', 'Tipo de contagio', 'Ubicación del caso', 'Estado', 'Código ISO del país', 'Nombre del país', 'Recuperado', 'Fecha de inicio de síntomas', 'Fecha de muerte', 'Fecha de diagnóstico', 'Fecha de recuperación', 'Tipo de recuperación', 'Pertenencia étnica', 'Nombre del grupo étnico']"
     ]
    }
   ],
   "source": [
    "df.columns"
   ]
  },
  {
   "cell_type": "code",
   "execution_count": 5,
   "id": "b86b740e",
   "metadata": {},
   "outputs": [
    {
     "data": {
      "application/vnd.jupyter.widget-view+json": {
       "model_id": "",
       "version_major": 2,
       "version_minor": 0
      },
      "text/plain": [
       "FloatProgress(value=0.0, bar_style='info', description='Progress:', layout=Layout(height='25px', width='50%'),…"
      ]
     },
     "metadata": {},
     "output_type": "display_data"
    },
    {
     "name": "stdout",
     "output_type": "stream",
     "text": [
      "root\n",
      " |-- fecha reporte web: string (nullable = true)\n",
      " |-- ID de caso: integer (nullable = true)\n",
      " |-- Fecha de notificación: string (nullable = true)\n",
      " |-- Código DIVIPOLA departamento: integer (nullable = true)\n",
      " |-- Nombre departamento: string (nullable = true)\n",
      " |-- Código DIVIPOLA municipio: integer (nullable = true)\n",
      " |-- Nombre municipio: string (nullable = true)\n",
      " |-- Edad: integer (nullable = true)\n",
      " |-- Unidad de medida de edad: integer (nullable = true)\n",
      " |-- Sexo: string (nullable = true)\n",
      " |-- Tipo de contagio: string (nullable = true)\n",
      " |-- Ubicación del caso: string (nullable = true)\n",
      " |-- Estado: string (nullable = true)\n",
      " |-- Código ISO del país: integer (nullable = true)\n",
      " |-- Nombre del país: string (nullable = true)\n",
      " |-- Recuperado: string (nullable = true)\n",
      " |-- Fecha de inicio de síntomas: string (nullable = true)\n",
      " |-- Fecha de muerte: string (nullable = true)\n",
      " |-- Fecha de diagnóstico: string (nullable = true)\n",
      " |-- Fecha de recuperación: string (nullable = true)\n",
      " |-- Tipo de recuperación: string (nullable = true)\n",
      " |-- Pertenencia étnica: integer (nullable = true)\n",
      " |-- Nombre del grupo étnico: string (nullable = true)"
     ]
    }
   ],
   "source": [
    "df.printSchema()"
   ]
  },
  {
   "cell_type": "code",
   "execution_count": 6,
   "id": "753f475b",
   "metadata": {},
   "outputs": [
    {
     "data": {
      "application/vnd.jupyter.widget-view+json": {
       "model_id": "",
       "version_major": 2,
       "version_minor": 0
      },
      "text/plain": [
       "FloatProgress(value=0.0, bar_style='info', description='Progress:', layout=Layout(height='25px', width='50%'),…"
      ]
     },
     "metadata": {},
     "output_type": "display_data"
    },
    {
     "name": "stdout",
     "output_type": "stream",
     "text": [
      "+---------------+-------------------+----+\n",
      "|Fecha de muerte|Nombre departamento|Sexo|\n",
      "+---------------+-------------------+----+\n",
      "|           null|             BOGOTA|   F|\n",
      "|           null|              VALLE|   M|\n",
      "|           null|          ANTIOQUIA|   F|\n",
      "|           null|          ANTIOQUIA|   M|\n",
      "|           null|          ANTIOQUIA|   M|\n",
      "|           null|          ANTIOQUIA|   F|\n",
      "|           null|          CARTAGENA|   F|\n",
      "|           null|             BOGOTA|   F|\n",
      "|           null|             BOGOTA|   F|\n",
      "|           null|             BOGOTA|   F|\n",
      "+---------------+-------------------+----+\n",
      "only showing top 10 rows"
     ]
    }
   ],
   "source": [
    "df.select('Fecha de muerte','Nombre departamento','Sexo').show(10)"
   ]
  },
  {
   "cell_type": "code",
   "execution_count": 7,
   "id": "0ef8b10b",
   "metadata": {},
   "outputs": [
    {
     "data": {
      "application/vnd.jupyter.widget-view+json": {
       "model_id": "",
       "version_major": 2,
       "version_minor": 0
      },
      "text/plain": [
       "FloatProgress(value=0.0, bar_style='info', description='Progress:', layout=Layout(height='25px', width='50%'),…"
      ]
     },
     "metadata": {},
     "output_type": "display_data"
    }
   ],
   "source": [
    "df =df.withColumnRenamed(\"fecha reporte web\", \"fecha_reporte_web\")\n",
    "df =df.withColumnRenamed(\"ID de caso\", \"id_caso\")\n",
    "df =df.withColumnRenamed(\"Fecha de notificación\", \"fecha_notificacion\")\n",
    "df =df.withColumnRenamed(\"Código DIVIPOLA departamento\", \"codigo_departamento\")\n",
    "df =df.withColumnRenamed(\"Nombre departamento\", \"departamento\")\n",
    "df =df.withColumnRenamed(\"Código DIVIPOLA municipio\", \"codigo_municipio\")\n",
    "df =df.withColumnRenamed(\"Nombre municipio\", \"municipio\")\n",
    "df =df.withColumnRenamed(\"Edad\", \"edad\")\n",
    "df =df.withColumnRenamed(\"Sexo\", \"sexo\")\n",
    "df =df.withColumnRenamed(\"Tipo de contagio\", \"tipo_contagio\")\n",
    "df =df.withColumnRenamed(\"Ubicación del caso\", \"ubicacion_caso\")\n",
    "df =df.withColumnRenamed(\"Estado\", \"estado\")\n",
    "df =df.withColumnRenamed(\"Código ISO del país\", \"codigo_pais\")\n",
    "df =df.withColumnRenamed(\"Nombre del país\", \"nombre_pais\")\n",
    "df =df.withColumnRenamed(\"Recuperado\", \"recuperado\")\n",
    "df =df.withColumnRenamed(\"Fecha de inicio de síntomas\", \"fecha_inicio_sintomas\")\n",
    "df =df.withColumnRenamed(\"Fecha de muerte\", \"fecha_muerte\")\n",
    "df =df.withColumnRenamed(\"Fecha de diagnóstico\", \"fecha_diagnostico\")\n",
    "df =df.withColumnRenamed(\"Fecha de recuperación\", \"fecha_recuperacion\")\n",
    "df =df.withColumnRenamed(\"Tipo de recuperación\", \"tipo_recuperacion\")\n",
    "df =df.withColumnRenamed(\"Pertenencia étnica\", \"pertenencia_etnica\")\n",
    "df =df.withColumnRenamed(\"Nombre del grupo étnico\", \"nombre_etnia\")"
   ]
  },
  {
   "cell_type": "code",
   "execution_count": 8,
   "id": "68fc2a3b",
   "metadata": {},
   "outputs": [
    {
     "data": {
      "application/vnd.jupyter.widget-view+json": {
       "model_id": "",
       "version_major": 2,
       "version_minor": 0
      },
      "text/plain": [
       "FloatProgress(value=0.0, bar_style='info', description='Progress:', layout=Layout(height='25px', width='50%'),…"
      ]
     },
     "metadata": {},
     "output_type": "display_data"
    },
    {
     "name": "stdout",
     "output_type": "stream",
     "text": [
      "+---------------+\n",
      "|estado_por_sexo|\n",
      "+---------------+\n",
      "|     1, Leve, F|\n",
      "|     2, Leve, M|\n",
      "|     3, Leve, F|\n",
      "|     4, Leve, M|\n",
      "|     5, Leve, M|\n",
      "+---------------+\n",
      "only showing top 5 rows"
     ]
    }
   ],
   "source": [
    "df = df.withColumn(\"estado_por_sexo\", concat(col(\"id_caso\"), lit(\", \"), col(\"estado\"), lit(\", \"), col(\"sexo\")))\n",
    "df.select(\"estado_por_sexo\").show(5)"
   ]
  },
  {
   "cell_type": "code",
   "execution_count": 9,
   "id": "f63fd7ea",
   "metadata": {},
   "outputs": [
    {
     "data": {
      "application/vnd.jupyter.widget-view+json": {
       "model_id": "",
       "version_major": 2,
       "version_minor": 0
      },
      "text/plain": [
       "FloatProgress(value=0.0, bar_style='info', description='Progress:', layout=Layout(height='25px', width='50%'),…"
      ]
     },
     "metadata": {},
     "output_type": "display_data"
    },
    {
     "name": "stdout",
     "output_type": "stream",
     "text": [
      "['fecha_reporte_web', 'id_caso', 'Fecha de notificación', 'Código DIVIPOLA departamento', 'departamento', 'Código DIVIPOLA municipio', 'municipio', 'edad', 'Unidad de medida de edad', 'sexo', 'tipo_contagio', 'Ubicación del caso', 'estado', 'Código ISO del país', 'Nombre del país', 'recuperado', 'Fecha de inicio de síntomas', 'Fecha de diagnóstico', 'Fecha de recuperación', 'Tipo de recuperación', 'Pertenencia étnica', 'Nombre del grupo étnico', 'estado_por_sexo']"
     ]
    }
   ],
   "source": [
    "df = df.drop(\"fecha_muerte\",\"codigo_municipio\")\n",
    "df.columns"
   ]
  },
  {
   "cell_type": "code",
   "execution_count": 10,
   "id": "b5ef1147",
   "metadata": {},
   "outputs": [
    {
     "data": {
      "application/vnd.jupyter.widget-view+json": {
       "model_id": "",
       "version_major": 2,
       "version_minor": 0
      },
      "text/plain": [
       "FloatProgress(value=0.0, bar_style='info', description='Progress:', layout=Layout(height='25px', width='50%'),…"
      ]
     },
     "metadata": {},
     "output_type": "display_data"
    },
    {
     "name": "stdout",
     "output_type": "stream",
     "text": [
      "+-------+------+----+\n",
      "|id_caso|estado|sexo|\n",
      "+-------+------+----+\n",
      "|      1|  Leve|   F|\n",
      "|      3|  Leve|   F|\n",
      "|      6|  Leve|   F|\n",
      "|      7|  Leve|   F|\n",
      "|      8|  Leve|   F|\n",
      "|      9|  Leve|   F|\n",
      "|     10|  Leve|   F|\n",
      "|     11|  Leve|   F|\n",
      "|     12|  Leve|   F|\n",
      "|     13|  Leve|   F|\n",
      "+-------+------+----+\n",
      "only showing top 10 rows"
     ]
    }
   ],
   "source": [
    "df.select(\"id_caso\", \"estado\",\"sexo\").filter(df[\"sexo\"] == \"F\").show(10)"
   ]
  },
  {
   "cell_type": "code",
   "execution_count": 11,
   "id": "69384c10",
   "metadata": {},
   "outputs": [
    {
     "data": {
      "application/vnd.jupyter.widget-view+json": {
       "model_id": "",
       "version_major": 2,
       "version_minor": 0
      },
      "text/plain": [
       "FloatProgress(value=0.0, bar_style='info', description='Progress:', layout=Layout(height='25px', width='50%'),…"
      ]
     },
     "metadata": {},
     "output_type": "display_data"
    },
    {
     "name": "stdout",
     "output_type": "stream",
     "text": [
      "+------+------------+\n",
      "|estado|         tag|\n",
      "+------+------------+\n",
      "|  Leve|estado: Leve|\n",
      "|  Leve|estado: Leve|\n",
      "|  Leve|estado: Leve|\n",
      "|  Leve|estado: Leve|\n",
      "|  Leve|estado: Leve|\n",
      "+------+------------+\n",
      "only showing top 5 rows"
     ]
    }
   ],
   "source": [
    "lambda_function = udf(lambda column_value: \"estado: \" + column_value)\n",
    "df = df.withColumn(\"tag\", lambda_function(df[\"estado\"]))\n",
    "df.select('estado','tag').show(5)"
   ]
  },
  {
   "cell_type": "code",
   "execution_count": 12,
   "id": "7b820fe1",
   "metadata": {},
   "outputs": [
    {
     "data": {
      "application/vnd.jupyter.widget-view+json": {
       "model_id": "",
       "version_major": 2,
       "version_minor": 0
      },
      "text/plain": [
       "FloatProgress(value=0.0, bar_style='info', description='Progress:', layout=Layout(height='25px', width='50%'),…"
      ]
     },
     "metadata": {},
     "output_type": "display_data"
    },
    {
     "name": "stdout",
     "output_type": "stream",
     "text": [
      "+------------+-----+\n",
      "|departamento|count|\n",
      "+------------+-----+\n",
      "|      BOGOTA|30016|\n",
      "|BARRANQUILLA|13065|\n",
      "|   ATLANTICO|10994|\n",
      "|       VALLE|10404|\n",
      "|   CARTAGENA| 8333|\n",
      "|   ANTIOQUIA| 4554|\n",
      "|      NARIÑO| 3520|\n",
      "|CUNDINAMARCA| 2827|\n",
      "|    AMAZONAS| 2317|\n",
      "|       CHOCO| 1636|\n",
      "+------------+-----+"
     ]
    }
   ],
   "source": [
    "departamentos = df.groupBy(\"departamento\").count().orderBy(desc(\"count\")).limit(10)\n",
    "departamentos.show()"
   ]
  },
  {
   "cell_type": "code",
   "execution_count": 13,
   "id": "a696cf39",
   "metadata": {},
   "outputs": [
    {
     "data": {
      "application/vnd.jupyter.widget-view+json": {
       "model_id": "",
       "version_major": 2,
       "version_minor": 0
      },
      "text/plain": [
       "FloatProgress(value=0.0, bar_style='info', description='Progress:', layout=Layout(height='25px', width='50%'),…"
      ]
     },
     "metadata": {},
     "output_type": "display_data"
    },
    {
     "name": "stdout",
     "output_type": "stream",
     "text": [
      "+------------+-----+\n",
      "|departamento|casos|\n",
      "+------------+-----+\n",
      "|      BOGOTA|30016|\n",
      "|BARRANQUILLA|13065|\n",
      "|   ATLANTICO|10994|\n",
      "|       VALLE|10404|\n",
      "|   CARTAGENA| 8333|\n",
      "|   ANTIOQUIA| 4554|\n",
      "|      NARIÑO| 3520|\n",
      "|CUNDINAMARCA| 2827|\n",
      "|    AMAZONAS| 2317|\n",
      "|       CHOCO| 1636|\n",
      "+------------+-----+"
     ]
    }
   ],
   "source": [
    "df.createOrReplaceTempView(\"data\")\n",
    "departamentos = spark.sql(\"SELECT departamento, COUNT(*) AS casos FROM data GROUP BY departamento ORDER BY casos DESC LIMIT 10\")\n",
    "departamentos.show()"
   ]
  },
  {
   "cell_type": "code",
   "execution_count": 14,
   "id": "b5f0c74a",
   "metadata": {},
   "outputs": [
    {
     "data": {
      "application/vnd.jupyter.widget-view+json": {
       "model_id": "",
       "version_major": 2,
       "version_minor": 0
      },
      "text/plain": [
       "FloatProgress(value=0.0, bar_style='info', description='Progress:', layout=Layout(height='25px', width='50%'),…"
      ]
     },
     "metadata": {},
     "output_type": "display_data"
    },
    {
     "name": "stdout",
     "output_type": "stream",
     "text": [
      "+------------+-----+\n",
      "|departamento|casos|\n",
      "+------------+-----+\n",
      "|      BOGOTA|30016|\n",
      "|BARRANQUILLA|13065|\n",
      "|   ATLANTICO|10994|\n",
      "|       VALLE|10404|\n",
      "|   CARTAGENA| 8333|\n",
      "|   ANTIOQUIA| 4554|\n",
      "|      NARIÑO| 3520|\n",
      "|CUNDINAMARCA| 2827|\n",
      "|    AMAZONAS| 2317|\n",
      "|       CHOCO| 1636|\n",
      "+------------+-----+"
     ]
    }
   ],
   "source": [
    "df.createOrReplaceTempView(\"data\")\n",
    "departamentos = spark.sql(\"SELECT departamento, COUNT(*) AS casos FROM data GROUP BY departamento ORDER BY casos DESC LIMIT 10\")\n",
    "departamentos.show()"
   ]
  },
  {
   "cell_type": "code",
   "execution_count": 15,
   "id": "161d769f",
   "metadata": {},
   "outputs": [
    {
     "data": {
      "application/vnd.jupyter.widget-view+json": {
       "model_id": "",
       "version_major": 2,
       "version_minor": 0
      },
      "text/plain": [
       "FloatProgress(value=0.0, bar_style='info', description='Progress:', layout=Layout(height='25px', width='50%'),…"
      ]
     },
     "metadata": {},
     "output_type": "display_data"
    },
    {
     "name": "stdout",
     "output_type": "stream",
     "text": [
      "+------------+-----+\n",
      "|   municipio|casos|\n",
      "+------------+-----+\n",
      "|      BOGOTA|30016|\n",
      "|BARRANQUILLA|13065|\n",
      "|   CARTAGENA| 8333|\n",
      "|        CALI| 7747|\n",
      "|     SOLEDAD| 6233|\n",
      "|     LETICIA| 2194|\n",
      "|    MEDELLIN| 2137|\n",
      "|      TUMACO| 1501|\n",
      "|BUENAVENTURA| 1453|\n",
      "|      QUIBDO| 1367|\n",
      "+------------+-----+"
     ]
    }
   ],
   "source": [
    "municipios = spark.sql(\"SELECT municipio, COUNT(*) AS casos FROM data GROUP BY municipio ORDER BY casos DESC LIMIT 10\")\n",
    "municipios.show()"
   ]
  },
  {
   "cell_type": "code",
   "execution_count": 16,
   "id": "50c862bf",
   "metadata": {},
   "outputs": [
    {
     "data": {
      "application/vnd.jupyter.widget-view+json": {
       "model_id": "",
       "version_major": 2,
       "version_minor": 0
      },
      "text/plain": [
       "FloatProgress(value=0.0, bar_style='info', description='Progress:', layout=Layout(height='25px', width='50%'),…"
      ]
     },
     "metadata": {},
     "output_type": "display_data"
    },
    {
     "name": "stdout",
     "output_type": "stream",
     "text": [
      "+-----------------+-----+\n",
      "|fecha_reporte_web|count|\n",
      "+-----------------+-----+\n",
      "|27/6/2020 0:00:00| 4149|\n",
      "|26/6/2020 0:00:00| 3843|\n",
      "|24/6/2020 0:00:00| 3541|\n",
      "|25/6/2020 0:00:00| 3486|\n",
      "|29/6/2020 0:00:00| 3274|\n",
      "|28/6/2020 0:00:00| 3178|\n",
      "|18/6/2020 0:00:00| 3171|\n",
      "|19/6/2020 0:00:00| 3059|\n",
      "|21/6/2020 0:00:00| 3019|\n",
      "|30/6/2020 0:00:00| 2803|\n",
      "+-----------------+-----+"
     ]
    }
   ],
   "source": [
    "dias = df.groupBy(\"fecha_reporte_web\").count().orderBy(desc(\"count\")).limit(10)\n",
    "dias.show()"
   ]
  },
  {
   "cell_type": "code",
   "execution_count": 17,
   "id": "ef324342",
   "metadata": {},
   "outputs": [
    {
     "data": {
      "application/vnd.jupyter.widget-view+json": {
       "model_id": "",
       "version_major": 2,
       "version_minor": 0
      },
      "text/plain": [
       "FloatProgress(value=0.0, bar_style='info', description='Progress:', layout=Layout(height='25px', width='50%'),…"
      ]
     },
     "metadata": {},
     "output_type": "display_data"
    },
    {
     "name": "stdout",
     "output_type": "stream",
     "text": [
      "+-----------------+-----+\n",
      "|            Fecha|Casos|\n",
      "+-----------------+-----+\n",
      "|27/6/2020 0:00:00| 4149|\n",
      "|26/6/2020 0:00:00| 3843|\n",
      "|24/6/2020 0:00:00| 3541|\n",
      "|25/6/2020 0:00:00| 3486|\n",
      "|29/6/2020 0:00:00| 3274|\n",
      "|28/6/2020 0:00:00| 3178|\n",
      "|18/6/2020 0:00:00| 3171|\n",
      "|19/6/2020 0:00:00| 3059|\n",
      "|21/6/2020 0:00:00| 3019|\n",
      "|30/6/2020 0:00:00| 2803|\n",
      "+-----------------+-----+"
     ]
    }
   ],
   "source": [
    "dias = spark.sql(\"SELECT fecha_reporte_web as Fecha, COUNT(*) AS Casos FROM data GROUP BY fecha_reporte_web ORDER BY casos DESC LIMIT 10\")\n",
    "dias.show()"
   ]
  },
  {
   "cell_type": "code",
   "execution_count": 18,
   "id": "f637eb8b",
   "metadata": {},
   "outputs": [
    {
     "data": {
      "application/vnd.jupyter.widget-view+json": {
       "model_id": "",
       "version_major": 2,
       "version_minor": 0
      },
      "text/plain": [
       "FloatProgress(value=0.0, bar_style='info', description='Progress:', layout=Layout(height='25px', width='50%'),…"
      ]
     },
     "metadata": {},
     "output_type": "display_data"
    },
    {
     "name": "stdout",
     "output_type": "stream",
     "text": [
      "+----+-----+\n",
      "|edad|count|\n",
      "+----+-----+\n",
      "|  30| 2735|\n",
      "|  29| 2611|\n",
      "|  31| 2569|\n",
      "|  28| 2540|\n",
      "|  27| 2494|\n",
      "|  26| 2436|\n",
      "|  33| 2371|\n",
      "|  32| 2362|\n",
      "|  25| 2335|\n",
      "|  34| 2310|\n",
      "+----+-----+"
     ]
    }
   ],
   "source": [
    "edad = df.groupBy(\"edad\").count().orderBy(desc(\"count\")).limit(10)\n",
    "edad.show()"
   ]
  },
  {
   "cell_type": "code",
   "execution_count": 19,
   "id": "f5803eda",
   "metadata": {},
   "outputs": [
    {
     "data": {
      "application/vnd.jupyter.widget-view+json": {
       "model_id": "",
       "version_major": 2,
       "version_minor": 0
      },
      "text/plain": [
       "FloatProgress(value=0.0, bar_style='info', description='Progress:', layout=Layout(height='25px', width='50%'),…"
      ]
     },
     "metadata": {},
     "output_type": "display_data"
    },
    {
     "name": "stdout",
     "output_type": "stream",
     "text": [
      "+----+-----+\n",
      "|edad|casos|\n",
      "+----+-----+\n",
      "|  30| 2735|\n",
      "|  29| 2611|\n",
      "|  31| 2569|\n",
      "|  28| 2540|\n",
      "|  27| 2494|\n",
      "|  26| 2436|\n",
      "|  33| 2371|\n",
      "|  32| 2362|\n",
      "|  25| 2335|\n",
      "|  34| 2310|\n",
      "+----+-----+"
     ]
    }
   ],
   "source": [
    "edad = spark.sql(\"SELECT edad, COUNT(*) AS casos FROM data GROUP BY edad ORDER BY casos DESC LIMIT 10\")\n",
    "edad.show()"
   ]
  },
  {
   "cell_type": "code",
   "execution_count": 20,
   "id": "6f968966",
   "metadata": {},
   "outputs": [
    {
     "data": {
      "application/vnd.jupyter.widget-view+json": {
       "model_id": "",
       "version_major": 2,
       "version_minor": 0
      },
      "text/plain": [
       "FloatProgress(value=0.0, bar_style='info', description='Progress:', layout=Layout(height='25px', width='50%'),…"
      ]
     },
     "metadata": {},
     "output_type": "display_data"
    },
    {
     "name": "stdout",
     "output_type": "stream",
     "text": [
      "+---------+-----+\n",
      "|   estado|count|\n",
      "+---------+-----+\n",
      "|     Leve|94367|\n",
      "|Fallecido| 4663|\n",
      "|      N/A|  970|\n",
      "+---------+-----+"
     ]
    }
   ],
   "source": [
    "estado = df.groupBy(\"estado\").count().orderBy(desc(\"count\")).limit(10)\n",
    "estado.show()"
   ]
  },
  {
   "cell_type": "code",
   "execution_count": 22,
   "id": "1f7205a2",
   "metadata": {},
   "outputs": [
    {
     "data": {
      "application/vnd.jupyter.widget-view+json": {
       "model_id": "",
       "version_major": 2,
       "version_minor": 0
      },
      "text/plain": [
       "FloatProgress(value=0.0, bar_style='info', description='Progress:', layout=Layout(height='25px', width='50%'),…"
      ]
     },
     "metadata": {},
     "output_type": "display_data"
    },
    {
     "name": "stdout",
     "output_type": "stream",
     "text": [
      "+---------+-----+\n",
      "|   estado|casos|\n",
      "+---------+-----+\n",
      "|     Leve|94367|\n",
      "|Fallecido| 4663|\n",
      "|      N/A|  970|\n",
      "+---------+-----+"
     ]
    }
   ],
   "source": [
    "estado = spark.sql(\"SELECT estado, COUNT(*) AS casos FROM data GROUP BY estado ORDER BY casos DESC LIMIT 10\")\n",
    "estado.show()"
   ]
  },
  {
   "cell_type": "code",
   "execution_count": 23,
   "id": "e4e02eda",
   "metadata": {},
   "outputs": [
    {
     "data": {
      "application/vnd.jupyter.widget-view+json": {
       "model_id": "",
       "version_major": 2,
       "version_minor": 0
      },
      "text/plain": [
       "FloatProgress(value=0.0, bar_style='info', description='Progress:', layout=Layout(height='25px', width='50%'),…"
      ]
     },
     "metadata": {},
     "output_type": "display_data"
    }
   ],
   "source": [
    "departamentos.write.csv(\"s3://st0263darangoh/lab62/departamentos.csv\")\n",
    "municipios.write.csv(\"s3://st0263darangoh/lab62/municipios.csv\")\n",
    "dias.write.csv(\"s3://st0263darangoh/lab62/dias.csv\")\n",
    "edad.write.csv(\"s3://st0263darangoh/lab62/edad.csv\")\n",
    "estado.write.csv(\"s3://st0263darangoh/lab62/estado.csv\")"
   ]
  },
  {
   "cell_type": "code",
   "execution_count": null,
   "id": "14059701",
   "metadata": {},
   "outputs": [],
   "source": []
  }
 ],
 "metadata": {
  "kernelspec": {
   "display_name": "PySpark",
   "language": "python",
   "name": "pysparkkernel"
  },
  "language_info": {
   "codemirror_mode": {
    "name": "python",
    "version": 3
   },
   "file_extension": ".py",
   "mimetype": "text/x-python",
   "name": "pyspark",
   "pygments_lexer": "python3"
  }
 },
 "nbformat": 4,
 "nbformat_minor": 5
}
