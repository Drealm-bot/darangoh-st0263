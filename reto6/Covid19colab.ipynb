{
  "nbformat": 4,
  "nbformat_minor": 0,
  "metadata": {
    "colab": {
      "provenance": []
    },
    "kernelspec": {
      "name": "python3",
      "display_name": "Python 3"
    },
    "language_info": {
      "name": "python"
    }
  },
  "cells": [
    {
      "cell_type": "code",
      "execution_count": 1,
      "metadata": {
        "colab": {
          "base_uri": "https://localhost:8080/"
        },
        "id": "UM1M30ufG-Pb",
        "outputId": "c450b991-bff5-49ff-8c1e-b180a8bee4bb"
      },
      "outputs": [
        {
          "output_type": "stream",
          "name": "stdout",
          "text": [
            "Looking in indexes: https://pypi.org/simple, https://us-python.pkg.dev/colab-wheels/public/simple/\n",
            "Collecting pyspark\n",
            "  Downloading pyspark-3.4.0.tar.gz (310.8 MB)\n",
            "\u001b[2K     \u001b[90m━━━━━━━━━━━━━━━━━━━━━━━━━━━━━━━━━━━━━━━\u001b[0m \u001b[32m310.8/310.8 MB\u001b[0m \u001b[31m5.0 MB/s\u001b[0m eta \u001b[36m0:00:00\u001b[0m\n",
            "\u001b[?25h  Preparing metadata (setup.py) ... \u001b[?25l\u001b[?25hdone\n",
            "Requirement already satisfied: py4j==0.10.9.7 in /usr/local/lib/python3.10/dist-packages (from pyspark) (0.10.9.7)\n",
            "Building wheels for collected packages: pyspark\n",
            "  Building wheel for pyspark (setup.py) ... \u001b[?25l\u001b[?25hdone\n",
            "  Created wheel for pyspark: filename=pyspark-3.4.0-py2.py3-none-any.whl size=311317130 sha256=81119f8cc172cab229ff4116730577de4beae287de623b50df92e6be208b70c0\n",
            "  Stored in directory: /root/.cache/pip/wheels/7b/1b/4b/3363a1d04368e7ff0d408e57ff57966fcdf00583774e761327\n",
            "Successfully built pyspark\n",
            "Installing collected packages: pyspark\n",
            "Successfully installed pyspark-3.4.0\n"
          ]
        }
      ],
      "source": [
        "pip install pyspark"
      ]
    },
    {
      "cell_type": "code",
      "source": [
        "from pyspark.sql import SparkSession\n",
        "from pyspark.sql.functions import concat, col, lit\n",
        "from pyspark.sql.functions import desc\n",
        "from pyspark.sql.functions import udf\n",
        "from google.colab import drive"
      ],
      "metadata": {
        "id": "tAgQ6i-gHMTF"
      },
      "execution_count": 2,
      "outputs": []
    },
    {
      "cell_type": "code",
      "source": [
        "spark=SparkSession.builder.appName('data_processing_c').getOrCreate()"
      ],
      "metadata": {
        "id": "z3Epl96XHZrR"
      },
      "execution_count": 5,
      "outputs": []
    },
    {
      "cell_type": "code",
      "source": [
        "drive.mount('/content/drive')\n",
        "df=spark.read.csv('/content/drive/My Drive/covid19/Casos_positivos_de_COVID-19_en_Colombia-100K.csv',inferSchema=True,header=True)"
      ],
      "metadata": {
        "colab": {
          "base_uri": "https://localhost:8080/"
        },
        "id": "K3bA1vseHfnX",
        "outputId": "a71a9746-583a-41bd-83cf-3fceefca58e8"
      },
      "execution_count": 6,
      "outputs": [
        {
          "output_type": "stream",
          "name": "stdout",
          "text": [
            "Drive already mounted at /content/drive; to attempt to forcibly remount, call drive.mount(\"/content/drive\", force_remount=True).\n"
          ]
        }
      ]
    },
    {
      "cell_type": "code",
      "source": [
        "df.columns"
      ],
      "metadata": {
        "colab": {
          "base_uri": "https://localhost:8080/"
        },
        "id": "AbwNGHFyHmJL",
        "outputId": "cc23558f-0f68-454b-fb0b-9e15cf3a1aee"
      },
      "execution_count": 7,
      "outputs": [
        {
          "output_type": "execute_result",
          "data": {
            "text/plain": [
              "['fecha reporte web',\n",
              " 'ID de caso',\n",
              " 'Fecha de notificación',\n",
              " 'Código DIVIPOLA departamento',\n",
              " 'Nombre departamento',\n",
              " 'Código DIVIPOLA municipio',\n",
              " 'Nombre municipio',\n",
              " 'Edad',\n",
              " 'Unidad de medida de edad',\n",
              " 'Sexo',\n",
              " 'Tipo de contagio',\n",
              " 'Ubicación del caso',\n",
              " 'Estado',\n",
              " 'Código ISO del país',\n",
              " 'Nombre del país',\n",
              " 'Recuperado',\n",
              " 'Fecha de inicio de síntomas',\n",
              " 'Fecha de muerte',\n",
              " 'Fecha de diagnóstico',\n",
              " 'Fecha de recuperación',\n",
              " 'Tipo de recuperación',\n",
              " 'Pertenencia étnica',\n",
              " 'Nombre del grupo étnico']"
            ]
          },
          "metadata": {},
          "execution_count": 7
        }
      ]
    },
    {
      "cell_type": "code",
      "source": [
        "df.printSchema()"
      ],
      "metadata": {
        "colab": {
          "base_uri": "https://localhost:8080/"
        },
        "id": "9MHypmnJH4fo",
        "outputId": "5e8dc7a4-0bb9-4cd4-f6b1-c27119cdf66b"
      },
      "execution_count": 8,
      "outputs": [
        {
          "output_type": "stream",
          "name": "stdout",
          "text": [
            "root\n",
            " |-- fecha reporte web: string (nullable = true)\n",
            " |-- ID de caso: integer (nullable = true)\n",
            " |-- Fecha de notificación: string (nullable = true)\n",
            " |-- Código DIVIPOLA departamento: integer (nullable = true)\n",
            " |-- Nombre departamento: string (nullable = true)\n",
            " |-- Código DIVIPOLA municipio: integer (nullable = true)\n",
            " |-- Nombre municipio: string (nullable = true)\n",
            " |-- Edad: integer (nullable = true)\n",
            " |-- Unidad de medida de edad: integer (nullable = true)\n",
            " |-- Sexo: string (nullable = true)\n",
            " |-- Tipo de contagio: string (nullable = true)\n",
            " |-- Ubicación del caso: string (nullable = true)\n",
            " |-- Estado: string (nullable = true)\n",
            " |-- Código ISO del país: integer (nullable = true)\n",
            " |-- Nombre del país: string (nullable = true)\n",
            " |-- Recuperado: string (nullable = true)\n",
            " |-- Fecha de inicio de síntomas: string (nullable = true)\n",
            " |-- Fecha de muerte: string (nullable = true)\n",
            " |-- Fecha de diagnóstico: string (nullable = true)\n",
            " |-- Fecha de recuperación: string (nullable = true)\n",
            " |-- Tipo de recuperación: string (nullable = true)\n",
            " |-- Pertenencia étnica: integer (nullable = true)\n",
            " |-- Nombre del grupo étnico: string (nullable = true)\n",
            "\n"
          ]
        }
      ]
    },
    {
      "cell_type": "code",
      "source": [
        "df.select('Fecha de muerte','Nombre departamento','Sexo').show(10)"
      ],
      "metadata": {
        "colab": {
          "base_uri": "https://localhost:8080/"
        },
        "id": "-zKsZQToH6dl",
        "outputId": "623822cf-c80c-4f16-9d3c-7baac8b53bef"
      },
      "execution_count": 9,
      "outputs": [
        {
          "output_type": "stream",
          "name": "stdout",
          "text": [
            "+---------------+-------------------+----+\n",
            "|Fecha de muerte|Nombre departamento|Sexo|\n",
            "+---------------+-------------------+----+\n",
            "|           null|             BOGOTA|   F|\n",
            "|           null|              VALLE|   M|\n",
            "|           null|          ANTIOQUIA|   F|\n",
            "|           null|          ANTIOQUIA|   M|\n",
            "|           null|          ANTIOQUIA|   M|\n",
            "|           null|          ANTIOQUIA|   F|\n",
            "|           null|          CARTAGENA|   F|\n",
            "|           null|             BOGOTA|   F|\n",
            "|           null|             BOGOTA|   F|\n",
            "|           null|             BOGOTA|   F|\n",
            "+---------------+-------------------+----+\n",
            "only showing top 10 rows\n",
            "\n"
          ]
        }
      ]
    },
    {
      "cell_type": "code",
      "source": [
        "df =df.withColumnRenamed(\"fecha reporte web\", \"fecha_reporte_web\")\n",
        "df =df.withColumnRenamed(\"ID de caso\", \"id_caso\")\n",
        "df =df.withColumnRenamed(\"Fecha de notificación\", \"fecha_notificacion\")\n",
        "df =df.withColumnRenamed(\"Código DIVIPOLA departamento\", \"codigo_departamento\")\n",
        "df =df.withColumnRenamed(\"Nombre departamento\", \"departamento\")\n",
        "df =df.withColumnRenamed(\"Código DIVIPOLA municipio\", \"codigo_municipio\")\n",
        "df =df.withColumnRenamed(\"Nombre municipio\", \"municipio\")\n",
        "df =df.withColumnRenamed(\"Edad\", \"edad\")\n",
        "df =df.withColumnRenamed(\"Sexo\", \"sexo\")\n",
        "df =df.withColumnRenamed(\"Tipo de contagio\", \"tipo_contagio\")\n",
        "df =df.withColumnRenamed(\"Ubicación del caso\", \"ubicacion_caso\")\n",
        "df =df.withColumnRenamed(\"Estado\", \"estado\")\n",
        "df =df.withColumnRenamed(\"Código ISO del país\", \"codigo_pais\")\n",
        "df =df.withColumnRenamed(\"Nombre del país\", \"nombre_pais\")\n",
        "df =df.withColumnRenamed(\"Recuperado\", \"recuperado\")\n",
        "df =df.withColumnRenamed(\"Fecha de inicio de síntomas\", \"fecha_inicio_sintomas\")\n",
        "df =df.withColumnRenamed(\"Fecha de muerte\", \"fecha_muerte\")\n",
        "df =df.withColumnRenamed(\"Fecha de diagnóstico\", \"fecha_diagnostico\")\n",
        "df =df.withColumnRenamed(\"Fecha de recuperación\", \"fecha_recuperacion\")\n",
        "df =df.withColumnRenamed(\"Tipo de recuperación\", \"tipo_recuperacion\")\n",
        "df =df.withColumnRenamed(\"Pertenencia étnica\", \"pertenencia_etnica\")\n",
        "df =df.withColumnRenamed(\"Nombre del grupo étnico\", \"nombre_etnia\")"
      ],
      "metadata": {
        "id": "oTK5FZp_H9gk"
      },
      "execution_count": 10,
      "outputs": []
    },
    {
      "cell_type": "code",
      "source": [
        "df = df.withColumn(\"estado_por_sexo\", concat(col(\"id_caso\"), lit(\", \"), col(\"estado\"), lit(\", \"), col(\"sexo\")))\n",
        "df.select(\"estado_por_sexo\").show(5)"
      ],
      "metadata": {
        "colab": {
          "base_uri": "https://localhost:8080/"
        },
        "id": "pt4I2fIqIAoq",
        "outputId": "cff4260d-9fa5-4dd5-90d7-a8a0db5ef016"
      },
      "execution_count": 11,
      "outputs": [
        {
          "output_type": "stream",
          "name": "stdout",
          "text": [
            "+---------------+\n",
            "|estado_por_sexo|\n",
            "+---------------+\n",
            "|     1, Leve, F|\n",
            "|     2, Leve, M|\n",
            "|     3, Leve, F|\n",
            "|     4, Leve, M|\n",
            "|     5, Leve, M|\n",
            "+---------------+\n",
            "only showing top 5 rows\n",
            "\n"
          ]
        }
      ]
    },
    {
      "cell_type": "code",
      "source": [
        "df = df.drop(\"fecha_muerte\",\"codigo_municipio\")\n",
        "df.columns"
      ],
      "metadata": {
        "colab": {
          "base_uri": "https://localhost:8080/"
        },
        "id": "j9kZoXB_ICyq",
        "outputId": "2ee02d45-e920-46d4-8bbc-1eedd2bfebb8"
      },
      "execution_count": 12,
      "outputs": [
        {
          "output_type": "execute_result",
          "data": {
            "text/plain": [
              "['fecha_reporte_web',\n",
              " 'id_caso',\n",
              " 'fecha_notificacion',\n",
              " 'codigo_departamento',\n",
              " 'departamento',\n",
              " 'municipio',\n",
              " 'edad',\n",
              " 'Unidad de medida de edad',\n",
              " 'sexo',\n",
              " 'tipo_contagio',\n",
              " 'ubicacion_caso',\n",
              " 'estado',\n",
              " 'codigo_pais',\n",
              " 'nombre_pais',\n",
              " 'recuperado',\n",
              " 'fecha_inicio_sintomas',\n",
              " 'fecha_diagnostico',\n",
              " 'fecha_recuperacion',\n",
              " 'tipo_recuperacion',\n",
              " 'pertenencia_etnica',\n",
              " 'nombre_etnia',\n",
              " 'estado_por_sexo']"
            ]
          },
          "metadata": {},
          "execution_count": 12
        }
      ]
    },
    {
      "cell_type": "code",
      "source": [
        "df.select(\"id_caso\", \"estado\",\"sexo\").filter(df[\"sexo\"] == \"F\").show(10)"
      ],
      "metadata": {
        "colab": {
          "base_uri": "https://localhost:8080/"
        },
        "id": "G6BOy1N1IFs_",
        "outputId": "807dd611-0112-458e-ea0b-ec6bdbf6ba70"
      },
      "execution_count": 13,
      "outputs": [
        {
          "output_type": "stream",
          "name": "stdout",
          "text": [
            "+-------+------+----+\n",
            "|id_caso|estado|sexo|\n",
            "+-------+------+----+\n",
            "|      1|  Leve|   F|\n",
            "|      3|  Leve|   F|\n",
            "|      6|  Leve|   F|\n",
            "|      7|  Leve|   F|\n",
            "|      8|  Leve|   F|\n",
            "|      9|  Leve|   F|\n",
            "|     10|  Leve|   F|\n",
            "|     11|  Leve|   F|\n",
            "|     12|  Leve|   F|\n",
            "|     13|  Leve|   F|\n",
            "+-------+------+----+\n",
            "only showing top 10 rows\n",
            "\n"
          ]
        }
      ]
    },
    {
      "cell_type": "code",
      "source": [
        "lambda_function = udf(lambda column_value: \"estado: \" + column_value)\n",
        "df = df.withColumn(\"tag\", lambda_function(df[\"estado\"]))\n",
        "df.select('estado','tag').show(5)"
      ],
      "metadata": {
        "colab": {
          "base_uri": "https://localhost:8080/"
        },
        "id": "kPgKVDG9IJVm",
        "outputId": "451ad15e-f7cf-476d-fb10-edb77701f01b"
      },
      "execution_count": 14,
      "outputs": [
        {
          "output_type": "stream",
          "name": "stdout",
          "text": [
            "+------+------------+\n",
            "|estado|         tag|\n",
            "+------+------------+\n",
            "|  Leve|estado: Leve|\n",
            "|  Leve|estado: Leve|\n",
            "|  Leve|estado: Leve|\n",
            "|  Leve|estado: Leve|\n",
            "|  Leve|estado: Leve|\n",
            "+------+------------+\n",
            "only showing top 5 rows\n",
            "\n"
          ]
        }
      ]
    },
    {
      "cell_type": "code",
      "source": [
        "departamentos = df.groupBy(\"departamento\").count().orderBy(desc(\"count\")).limit(10)\n",
        "departamentos.show()"
      ],
      "metadata": {
        "colab": {
          "base_uri": "https://localhost:8080/"
        },
        "id": "2NESvJyLIQQe",
        "outputId": "3108f2a5-47ca-4e09-9501-cbf071bc595d"
      },
      "execution_count": 15,
      "outputs": [
        {
          "output_type": "stream",
          "name": "stdout",
          "text": [
            "+------------+-----+\n",
            "|departamento|count|\n",
            "+------------+-----+\n",
            "|      BOGOTA|30016|\n",
            "|BARRANQUILLA|13065|\n",
            "|   ATLANTICO|10994|\n",
            "|       VALLE|10404|\n",
            "|   CARTAGENA| 8333|\n",
            "|   ANTIOQUIA| 4554|\n",
            "|      NARIÑO| 3520|\n",
            "|CUNDINAMARCA| 2827|\n",
            "|    AMAZONAS| 2317|\n",
            "|       CHOCO| 1636|\n",
            "+------------+-----+\n",
            "\n"
          ]
        }
      ]
    },
    {
      "cell_type": "code",
      "source": [
        "df.createOrReplaceTempView(\"data\")\n",
        "departamentos = spark.sql(\"SELECT departamento, COUNT(*) AS casos FROM data GROUP BY departamento ORDER BY casos DESC LIMIT 10\")\n",
        "departamentos.show()"
      ],
      "metadata": {
        "colab": {
          "base_uri": "https://localhost:8080/"
        },
        "id": "DRkFFQyfISQz",
        "outputId": "839766a4-c398-4454-9629-0abf1bc1c8bd"
      },
      "execution_count": 16,
      "outputs": [
        {
          "output_type": "stream",
          "name": "stdout",
          "text": [
            "+------------+-----+\n",
            "|departamento|casos|\n",
            "+------------+-----+\n",
            "|      BOGOTA|30016|\n",
            "|BARRANQUILLA|13065|\n",
            "|   ATLANTICO|10994|\n",
            "|       VALLE|10404|\n",
            "|   CARTAGENA| 8333|\n",
            "|   ANTIOQUIA| 4554|\n",
            "|      NARIÑO| 3520|\n",
            "|CUNDINAMARCA| 2827|\n",
            "|    AMAZONAS| 2317|\n",
            "|       CHOCO| 1636|\n",
            "+------------+-----+\n",
            "\n"
          ]
        }
      ]
    },
    {
      "cell_type": "code",
      "source": [
        "df.createOrReplaceTempView(\"data\")\n",
        "departamentos = spark.sql(\"SELECT departamento, COUNT(*) AS casos FROM data GROUP BY departamento ORDER BY casos DESC LIMIT 10\")\n",
        "departamentos.show()"
      ],
      "metadata": {
        "colab": {
          "base_uri": "https://localhost:8080/"
        },
        "id": "UYqrJePQIUE6",
        "outputId": "55ab9afe-d5fc-4852-c960-37955d0ce4dd"
      },
      "execution_count": 17,
      "outputs": [
        {
          "output_type": "stream",
          "name": "stdout",
          "text": [
            "+------------+-----+\n",
            "|departamento|casos|\n",
            "+------------+-----+\n",
            "|      BOGOTA|30016|\n",
            "|BARRANQUILLA|13065|\n",
            "|   ATLANTICO|10994|\n",
            "|       VALLE|10404|\n",
            "|   CARTAGENA| 8333|\n",
            "|   ANTIOQUIA| 4554|\n",
            "|      NARIÑO| 3520|\n",
            "|CUNDINAMARCA| 2827|\n",
            "|    AMAZONAS| 2317|\n",
            "|       CHOCO| 1636|\n",
            "+------------+-----+\n",
            "\n"
          ]
        }
      ]
    },
    {
      "cell_type": "code",
      "source": [
        "municipios = spark.sql(\"SELECT municipio, COUNT(*) AS casos FROM data GROUP BY municipio ORDER BY casos DESC LIMIT 10\")\n",
        "municipios.show()"
      ],
      "metadata": {
        "colab": {
          "base_uri": "https://localhost:8080/"
        },
        "id": "yoJzHTCiIVyC",
        "outputId": "23fce1a9-49f6-4f23-c722-7015d540723f"
      },
      "execution_count": 18,
      "outputs": [
        {
          "output_type": "stream",
          "name": "stdout",
          "text": [
            "+------------+-----+\n",
            "|   municipio|casos|\n",
            "+------------+-----+\n",
            "|      BOGOTA|30016|\n",
            "|BARRANQUILLA|13065|\n",
            "|   CARTAGENA| 8333|\n",
            "|        CALI| 7747|\n",
            "|     SOLEDAD| 6233|\n",
            "|     LETICIA| 2194|\n",
            "|    MEDELLIN| 2137|\n",
            "|      TUMACO| 1501|\n",
            "|BUENAVENTURA| 1453|\n",
            "|      QUIBDO| 1367|\n",
            "+------------+-----+\n",
            "\n"
          ]
        }
      ]
    },
    {
      "cell_type": "code",
      "source": [
        "dias = df.groupBy(\"fecha_reporte_web\").count().orderBy(desc(\"count\")).limit(10)\n",
        "dias.show()"
      ],
      "metadata": {
        "colab": {
          "base_uri": "https://localhost:8080/"
        },
        "id": "p93wZgxfIX3N",
        "outputId": "8bbac301-1096-4faa-b376-19990ba4b277"
      },
      "execution_count": 19,
      "outputs": [
        {
          "output_type": "stream",
          "name": "stdout",
          "text": [
            "+-----------------+-----+\n",
            "|fecha_reporte_web|count|\n",
            "+-----------------+-----+\n",
            "|27/6/2020 0:00:00| 4149|\n",
            "|26/6/2020 0:00:00| 3843|\n",
            "|24/6/2020 0:00:00| 3541|\n",
            "|25/6/2020 0:00:00| 3486|\n",
            "|29/6/2020 0:00:00| 3274|\n",
            "|28/6/2020 0:00:00| 3178|\n",
            "|18/6/2020 0:00:00| 3171|\n",
            "|19/6/2020 0:00:00| 3059|\n",
            "|21/6/2020 0:00:00| 3019|\n",
            "|30/6/2020 0:00:00| 2803|\n",
            "+-----------------+-----+\n",
            "\n"
          ]
        }
      ]
    },
    {
      "cell_type": "code",
      "source": [
        "dias = spark.sql(\"SELECT fecha_reporte_web as Fecha, COUNT(*) AS Casos FROM data GROUP BY fecha_reporte_web ORDER BY casos DESC LIMIT 10\")\n",
        "dias.show()"
      ],
      "metadata": {
        "colab": {
          "base_uri": "https://localhost:8080/"
        },
        "id": "myfFYL8pIh0r",
        "outputId": "183658c4-a3e9-4282-de7a-25ed011310c5"
      },
      "execution_count": 20,
      "outputs": [
        {
          "output_type": "stream",
          "name": "stdout",
          "text": [
            "+-----------------+-----+\n",
            "|            Fecha|Casos|\n",
            "+-----------------+-----+\n",
            "|27/6/2020 0:00:00| 4149|\n",
            "|26/6/2020 0:00:00| 3843|\n",
            "|24/6/2020 0:00:00| 3541|\n",
            "|25/6/2020 0:00:00| 3486|\n",
            "|29/6/2020 0:00:00| 3274|\n",
            "|28/6/2020 0:00:00| 3178|\n",
            "|18/6/2020 0:00:00| 3171|\n",
            "|19/6/2020 0:00:00| 3059|\n",
            "|21/6/2020 0:00:00| 3019|\n",
            "|30/6/2020 0:00:00| 2803|\n",
            "+-----------------+-----+\n",
            "\n"
          ]
        }
      ]
    },
    {
      "cell_type": "code",
      "source": [
        "edad = df.groupBy(\"edad\").count().orderBy(desc(\"count\")).limit(10)\n",
        "edad.show()"
      ],
      "metadata": {
        "colab": {
          "base_uri": "https://localhost:8080/"
        },
        "id": "vIv0oKrPIj6O",
        "outputId": "5cb2b8a7-6036-4a4d-ff1f-63f9917a316d"
      },
      "execution_count": 21,
      "outputs": [
        {
          "output_type": "stream",
          "name": "stdout",
          "text": [
            "+----+-----+\n",
            "|edad|count|\n",
            "+----+-----+\n",
            "|  30| 2735|\n",
            "|  29| 2611|\n",
            "|  31| 2569|\n",
            "|  28| 2540|\n",
            "|  27| 2494|\n",
            "|  26| 2436|\n",
            "|  33| 2371|\n",
            "|  32| 2362|\n",
            "|  25| 2335|\n",
            "|  34| 2310|\n",
            "+----+-----+\n",
            "\n"
          ]
        }
      ]
    },
    {
      "cell_type": "code",
      "source": [
        "edad = spark.sql(\"SELECT edad, COUNT(*) AS casos FROM data GROUP BY edad ORDER BY casos DESC LIMIT 10\")\n",
        "edad.show()"
      ],
      "metadata": {
        "colab": {
          "base_uri": "https://localhost:8080/"
        },
        "id": "nhbh7sM9IljM",
        "outputId": "4f404e3d-a998-46ee-97fb-e45a736be213"
      },
      "execution_count": 22,
      "outputs": [
        {
          "output_type": "stream",
          "name": "stdout",
          "text": [
            "+----+-----+\n",
            "|edad|casos|\n",
            "+----+-----+\n",
            "|  30| 2735|\n",
            "|  29| 2611|\n",
            "|  31| 2569|\n",
            "|  28| 2540|\n",
            "|  27| 2494|\n",
            "|  26| 2436|\n",
            "|  33| 2371|\n",
            "|  32| 2362|\n",
            "|  25| 2335|\n",
            "|  34| 2310|\n",
            "+----+-----+\n",
            "\n"
          ]
        }
      ]
    },
    {
      "cell_type": "code",
      "source": [
        "estado = df.groupBy(\"estado\").count().orderBy(desc(\"count\")).limit(10)\n",
        "estado.show()"
      ],
      "metadata": {
        "colab": {
          "base_uri": "https://localhost:8080/"
        },
        "id": "eunDkS1CInaX",
        "outputId": "e6b7485c-4326-4fe0-b9c1-5f0a3e6fa116"
      },
      "execution_count": 23,
      "outputs": [
        {
          "output_type": "stream",
          "name": "stdout",
          "text": [
            "+---------+-----+\n",
            "|   estado|count|\n",
            "+---------+-----+\n",
            "|     Leve|94367|\n",
            "|Fallecido| 4663|\n",
            "|      N/A|  970|\n",
            "+---------+-----+\n",
            "\n"
          ]
        }
      ]
    },
    {
      "cell_type": "code",
      "source": [
        "estado = spark.sql(\"SELECT estado, COUNT(*) AS casos FROM data GROUP BY estado ORDER BY casos DESC LIMIT 10\")\n",
        "estado.show()"
      ],
      "metadata": {
        "colab": {
          "base_uri": "https://localhost:8080/"
        },
        "id": "fRyEUpQzIpYY",
        "outputId": "8aae661d-cf8b-4471-b96c-5e93cf8ce7a8"
      },
      "execution_count": 24,
      "outputs": [
        {
          "output_type": "stream",
          "name": "stdout",
          "text": [
            "+---------+-----+\n",
            "|   estado|casos|\n",
            "+---------+-----+\n",
            "|     Leve|94367|\n",
            "|Fallecido| 4663|\n",
            "|      N/A|  970|\n",
            "+---------+-----+\n",
            "\n"
          ]
        }
      ]
    },
    {
      "cell_type": "code",
      "source": [
        "departamentos.write.csv(\"/content/drive/My Drive/covid19/lab62/departamentos.csv\")\n",
        "municipios.write.csv(\"/content/drive/My Drive/covid19/lab62/municipios.csv\")\n",
        "dias.write.csv(\"/content/drive/My Drive/covid19/lab62/dias.csv\")\n",
        "edad.write.csv(\"/content/drive/My Drive/covid19/lab62/edad.csv\")\n",
        "estado.write.csv(\"/content/drive/My Drive/covid19/lab62/estado.csv\")"
      ],
      "metadata": {
        "id": "BRDWcVviIrJs"
      },
      "execution_count": 25,
      "outputs": []
    },
    {
      "cell_type": "code",
      "source": [],
      "metadata": {
        "id": "gZ809xPEIyNv"
      },
      "execution_count": null,
      "outputs": []
    }
  ]
}